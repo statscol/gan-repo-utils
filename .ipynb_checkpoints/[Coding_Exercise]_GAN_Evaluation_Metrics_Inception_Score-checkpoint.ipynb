{
 "cells": [
  {
   "cell_type": "markdown",
   "metadata": {
    "colab_type": "text",
    "id": "_OhgbCztLdb0"
   },
   "source": [
    "### Lecture 3"
   ]
  },
  {
   "cell_type": "code",
   "execution_count": 0,
   "metadata": {
    "colab": {},
    "colab_type": "code",
    "id": "_cG2mZfrLdb2"
   },
   "outputs": [],
   "source": [
    "import torch\n",
    "import numpy as np\n",
    "from matplotlib import pyplot as plt\n",
    "% matplotlib inline"
   ]
  },
  {
   "cell_type": "code",
   "execution_count": 2,
   "metadata": {
    "colab": {
     "base_uri": "https://localhost:8080/",
     "height": 34
    },
    "colab_type": "code",
    "id": "sD4OK2rhLdb7",
    "outputId": "27565a91-e1d6-445a-9079-3642f96ef207"
   },
   "outputs": [
    {
     "data": {
      "text/plain": [
       "True"
      ]
     },
     "execution_count": 2,
     "metadata": {
      "tags": []
     },
     "output_type": "execute_result"
    }
   ],
   "source": [
    "torch.cuda.is_available()"
   ]
  },
  {
   "cell_type": "code",
   "execution_count": 3,
   "metadata": {
    "colab": {
     "base_uri": "https://localhost:8080/",
     "height": 34
    },
    "colab_type": "code",
    "id": "5xhpncOELdcA",
    "outputId": "b7c46087-327a-492a-9556-0b1f3ba9d0d3"
   },
   "outputs": [
    {
     "data": {
      "text/plain": [
       "device(type='cuda')"
      ]
     },
     "execution_count": 3,
     "metadata": {
      "tags": []
     },
     "output_type": "execute_result"
    }
   ],
   "source": [
    "device = torch.device('cpu')\n",
    "if torch.cuda.is_available():\n",
    "    device = torch.device('cuda')\n",
    "\n",
    "\n",
    "device"
   ]
  },
  {
   "cell_type": "code",
   "execution_count": 0,
   "metadata": {
    "colab": {},
    "colab_type": "code",
    "id": "xX2Y2NDhLdcD"
   },
   "outputs": [],
   "source": [
    "noise_dim = 100"
   ]
  },
  {
   "cell_type": "markdown",
   "metadata": {
    "colab_type": "text",
    "id": "y4wk9P5mLdcG"
   },
   "source": [
    "#### Generator Model"
   ]
  },
  {
   "cell_type": "code",
   "execution_count": 0,
   "metadata": {
    "colab": {},
    "colab_type": "code",
    "id": "G_vE7g7KLdcH"
   },
   "outputs": [],
   "source": [
    "class Generator(torch.nn.Module):\n",
    "    \n",
    "    def __init__(self):\n",
    "        \n",
    "        super(Generator, self).__init__()\n",
    "        \n",
    "        self.fcn = torch.nn.Sequential(\n",
    "            # Fully Connected Layer 1\n",
    "            torch.nn.Linear(\n",
    "                in_features=noise_dim,\n",
    "                out_features=240,\n",
    "                bias=True\n",
    "            ),\n",
    "            torch.nn.ReLU(),\n",
    "            torch.nn.Dropout(0.5),\n",
    "            # Fully Connected Layer 2\n",
    "            torch.nn.Linear(\n",
    "                in_features=240,\n",
    "                out_features=240,\n",
    "                bias=True\n",
    "            ),\n",
    "            torch.nn.ReLU(),\n",
    "            torch.nn.Dropout(0.5),\n",
    "            # Fully Connected Layer 3\n",
    "            torch.nn.Linear(\n",
    "                in_features=240,\n",
    "                out_features=240,\n",
    "                bias=True\n",
    "            ),\n",
    "            torch.nn.ReLU(),\n",
    "            torch.nn.Dropout(0.5),\n",
    "            # Fully Connected Layer 4\n",
    "            torch.nn.Linear(\n",
    "                in_features=240,\n",
    "                out_features=784,\n",
    "                bias=True\n",
    "            ),\n",
    "            torch.nn.Sigmoid()\n",
    "        )\n",
    "\n",
    "    def forward(self, batch):\n",
    "        ret = batch.view(batch.size(0), -1)\n",
    "        ret = self.fcn(ret)\n",
    "        return ret"
   ]
  },
  {
   "cell_type": "markdown",
   "metadata": {
    "colab_type": "text",
    "id": "DlA1jjXsLdcK"
   },
   "source": [
    "#### Maxout Activation\n",
    "\n",
    "##### Source: https://github.com/pytorch/pytorch/issues/805"
   ]
  },
  {
   "cell_type": "code",
   "execution_count": 0,
   "metadata": {
    "colab": {},
    "colab_type": "code",
    "id": "18YizRRJLdcL"
   },
   "outputs": [],
   "source": [
    "class Maxout(torch.nn.Module):\n",
    "\n",
    "    def __init__(self, num_pieces):\n",
    "\n",
    "        super(Maxout, self).__init__()\n",
    "\n",
    "        self.num_pieces = num_pieces\n",
    "\n",
    "    def forward(self, x):\n",
    "\n",
    "        # x.shape = (batch_size? x 625)\n",
    "\n",
    "        assert x.shape[1] % self.num_pieces == 0  # 625 % 5 = 0\n",
    "\n",
    "        ret = x.view(\n",
    "            *x.shape[:1],  # batch_size\n",
    "            x.shape[1] // self.num_pieces,  # piece-wise linear\n",
    "            self.num_pieces,  # num_pieces\n",
    "            *x.shape[2:]  # remaining dimensions if any\n",
    "        )\n",
    "        \n",
    "        # ret.shape = (batch_size? x 125 x 5)\n",
    "\n",
    "        # https://pytorch.org/docs/stable/torch.html#torch.max        \n",
    "        ret, _ = ret.max(dim=2)\n",
    "\n",
    "        # ret.shape = (batch_size? x 125)\n",
    "\n",
    "        return ret"
   ]
  },
  {
   "cell_type": "markdown",
   "metadata": {
    "colab_type": "text",
    "id": "PWHOoCrHLdcO"
   },
   "source": [
    "#### Discriminator Model"
   ]
  },
  {
   "cell_type": "code",
   "execution_count": 0,
   "metadata": {
    "colab": {},
    "colab_type": "code",
    "id": "VOU4-L1bLdcP"
   },
   "outputs": [],
   "source": [
    "class Discriminator(torch.nn.Module):\n",
    "    \n",
    "    def __init__(self):\n",
    "        \n",
    "        super(Discriminator, self).__init__()\n",
    "        \n",
    "        self.fcn = torch.nn.Sequential(\n",
    "            # Fully Connected Layer 1\n",
    "            torch.nn.Linear(\n",
    "                in_features=784,\n",
    "                out_features=240,\n",
    "                bias=True\n",
    "            ),\n",
    "            Maxout(5),\n",
    "            # Fully Connected Layer 2\n",
    "            torch.nn.Linear(\n",
    "                in_features=48,\n",
    "                out_features=240,\n",
    "                bias=True\n",
    "            ),\n",
    "            Maxout(5),\n",
    "            # Fully Connected Layer 3\n",
    "            torch.nn.Linear(\n",
    "                in_features=48,\n",
    "                out_features=1,\n",
    "                bias=True\n",
    "            ),\n",
    "            torch.nn.Sigmoid()\n",
    "        )\n",
    "\n",
    "    def forward(self, batch):\n",
    "        ret = batch.view(batch.size(0), -1)\n",
    "        ret = self.fcn(ret)\n",
    "        return ret"
   ]
  },
  {
   "cell_type": "markdown",
   "metadata": {
    "colab_type": "text",
    "id": "_Avus67kLdcT"
   },
   "source": [
    "### Lecture 4"
   ]
  },
  {
   "cell_type": "markdown",
   "metadata": {
    "colab_type": "text",
    "id": "5uqxuAHtLdcU"
   },
   "source": [
    "#### MNIST Dataset"
   ]
  },
  {
   "cell_type": "code",
   "execution_count": 0,
   "metadata": {
    "colab": {},
    "colab_type": "code",
    "id": "zuyEivYqLdcV"
   },
   "outputs": [],
   "source": [
    "import torchvision"
   ]
  },
  {
   "cell_type": "code",
   "execution_count": 9,
   "metadata": {
    "colab": {
     "base_uri": "https://localhost:8080/",
     "height": 255
    },
    "colab_type": "code",
    "id": "rj1UdgKdLdcX",
    "outputId": "8c6ccf7f-d1d3-43b4-c6b4-4461f8177fda"
   },
   "outputs": [
    {
     "name": "stderr",
     "output_type": "stream",
     "text": [
      "\r",
      "0it [00:00, ?it/s]"
     ]
    },
    {
     "name": "stdout",
     "output_type": "stream",
     "text": [
      "Downloading http://yann.lecun.com/exdb/mnist/train-images-idx3-ubyte.gz to ./data/mnist/MNIST/raw/train-images-idx3-ubyte.gz\n"
     ]
    },
    {
     "name": "stderr",
     "output_type": "stream",
     "text": [
      "9920512it [00:02, 4005857.51it/s]                             \n"
     ]
    },
    {
     "name": "stdout",
     "output_type": "stream",
     "text": [
      "Extracting ./data/mnist/MNIST/raw/train-images-idx3-ubyte.gz to ./data/mnist/MNIST/raw\n"
     ]
    },
    {
     "name": "stderr",
     "output_type": "stream",
     "text": [
      "\r",
      "0it [00:00, ?it/s]"
     ]
    },
    {
     "name": "stdout",
     "output_type": "stream",
     "text": [
      "Downloading http://yann.lecun.com/exdb/mnist/train-labels-idx1-ubyte.gz to ./data/mnist/MNIST/raw/train-labels-idx1-ubyte.gz\n"
     ]
    },
    {
     "name": "stderr",
     "output_type": "stream",
     "text": [
      "32768it [00:00, 57788.06it/s]                           \n",
      "0it [00:00, ?it/s]"
     ]
    },
    {
     "name": "stdout",
     "output_type": "stream",
     "text": [
      "Extracting ./data/mnist/MNIST/raw/train-labels-idx1-ubyte.gz to ./data/mnist/MNIST/raw\n",
      "Downloading http://yann.lecun.com/exdb/mnist/t10k-images-idx3-ubyte.gz to ./data/mnist/MNIST/raw/t10k-images-idx3-ubyte.gz\n"
     ]
    },
    {
     "name": "stderr",
     "output_type": "stream",
     "text": [
      "1654784it [00:01, 962632.53it/s]                             \n",
      "0it [00:00, ?it/s]"
     ]
    },
    {
     "name": "stdout",
     "output_type": "stream",
     "text": [
      "Extracting ./data/mnist/MNIST/raw/t10k-images-idx3-ubyte.gz to ./data/mnist/MNIST/raw\n",
      "Downloading http://yann.lecun.com/exdb/mnist/t10k-labels-idx1-ubyte.gz to ./data/mnist/MNIST/raw/t10k-labels-idx1-ubyte.gz\n"
     ]
    },
    {
     "name": "stderr",
     "output_type": "stream",
     "text": [
      "8192it [00:00, 21782.27it/s]            "
     ]
    },
    {
     "name": "stdout",
     "output_type": "stream",
     "text": [
      "Extracting ./data/mnist/MNIST/raw/t10k-labels-idx1-ubyte.gz to ./data/mnist/MNIST/raw\n",
      "Processing...\n",
      "Done!\n"
     ]
    },
    {
     "name": "stderr",
     "output_type": "stream",
     "text": [
      "\n"
     ]
    }
   ],
   "source": [
    "class FlattenTransform:\n",
    "    \n",
    "    def __call__(self, inputs):\n",
    "        return inputs.view(inputs.shape[0], -1)\n",
    "        \n",
    "\n",
    "data_train = torchvision.datasets.MNIST(\n",
    "    './data/mnist',\n",
    "    train=True,\n",
    "    download=True,\n",
    "    transform=torchvision.transforms.Compose([\n",
    "        torchvision.transforms.ToTensor(),\n",
    "        FlattenTransform()\n",
    "    ])\n",
    ")"
   ]
  },
  {
   "cell_type": "code",
   "execution_count": 0,
   "metadata": {
    "colab": {},
    "colab_type": "code",
    "id": "X0-vutLXLdca"
   },
   "outputs": [],
   "source": [
    "BATCH_SIZE = 64\n",
    "\n",
    "train_loader = torch.utils.data.DataLoader(\n",
    "    data_train,\n",
    "    batch_size=BATCH_SIZE,\n",
    "    shuffle=True,\n",
    "    num_workers=4\n",
    ")"
   ]
  },
  {
   "cell_type": "markdown",
   "metadata": {
    "colab_type": "text",
    "id": "RK8UuddZLdcd"
   },
   "source": [
    "#### GAN Training"
   ]
  },
  {
   "cell_type": "code",
   "execution_count": 0,
   "metadata": {
    "colab": {},
    "colab_type": "code",
    "id": "3Wgg5wzSLdce"
   },
   "outputs": [],
   "source": [
    "generator = Generator().to(device)\n",
    "discriminator = Discriminator().to(device)\n",
    "\n",
    "\n",
    "discriminator_optimizer = torch.optim.SGD(\n",
    "    discriminator.parameters(),\n",
    "    lr=0.005,\n",
    "    momentum=0.7\n",
    ")\n",
    "\n",
    "generator_optimizer = torch.optim.SGD(\n",
    "    generator.parameters(),\n",
    "    lr=0.005,\n",
    "    momentum=0.7\n",
    ")\n",
    "\n",
    "criterion = torch.nn.BCELoss()"
   ]
  },
  {
   "cell_type": "code",
   "execution_count": 0,
   "metadata": {
    "colab": {},
    "colab_type": "code",
    "id": "L99QRpJnLdch"
   },
   "outputs": [],
   "source": [
    "real_labels = torch.ones(BATCH_SIZE, 1).to(device)\n",
    "fake_labels = torch.zeros(BATCH_SIZE, 1).to(device)\n",
    "\n",
    "test_set = torch.randn(16, noise_dim).to(device)\n",
    "\n",
    "num_epochs = 512\n",
    "num_steps = len(train_loader) // BATCH_SIZE"
   ]
  },
  {
   "cell_type": "code",
   "execution_count": 0,
   "metadata": {
    "colab": {},
    "colab_type": "code",
    "id": "bRPDeJpHLdcl"
   },
   "outputs": [],
   "source": [
    "import os\n",
    "\n",
    "if not os.path.exists('visuals-v2'):\n",
    "    os.mkdir('visuals-v2')"
   ]
  },
  {
   "cell_type": "code",
   "execution_count": 0,
   "metadata": {
    "colab": {},
    "colab_type": "code",
    "id": "O29i3nMSLdco"
   },
   "outputs": [],
   "source": [
    "for epoch in range(num_epochs):\n",
    "\n",
    "    for i, (images, _) in enumerate(train_loader):\n",
    "\n",
    "        if i == num_steps:\n",
    "            break\n",
    "\n",
    "        # Train Discriminator\n",
    "        for _ in range(16):\n",
    "        \n",
    "            real_images = images.to(device)\n",
    "\n",
    "            fake_images = generator(\n",
    "                torch.randn(BATCH_SIZE, noise_dim).to(device)\n",
    "            )\n",
    "\n",
    "            discriminator_optimizer.zero_grad()\n",
    "\n",
    "            real_outputs = discriminator(real_images)\n",
    "            fake_outputs = discriminator(fake_images)\n",
    "\n",
    "            d_x = criterion(real_outputs, real_labels)\n",
    "            d_g_z = criterion(fake_outputs, fake_labels)\n",
    "\n",
    "            d_x.backward()\n",
    "            d_g_z.backward()\n",
    "\n",
    "            discriminator_optimizer.step()\n",
    "\n",
    "        # Train Generator\n",
    "        z = torch.randn(BATCH_SIZE, noise_dim).to(device)\n",
    "\n",
    "        generator.zero_grad()\n",
    "\n",
    "        outputs = discriminator(generator(z))\n",
    "\n",
    "        loss = criterion(outputs, real_labels)\n",
    "\n",
    "        loss.backward()\n",
    "\n",
    "        generator_optimizer.step()\n",
    "\n",
    "    # Visualize Results\n",
    "    if epoch % 10 == 0:\n",
    "\n",
    "        generated = generator(test_set).detach().cpu().view(-1, 1, 28, 28)\n",
    "\n",
    "        grid = torchvision.utils.save_image(\n",
    "            generated,\n",
    "            os.path.join(\n",
    "                'visuals-v2',\n",
    "                '{}.jpg'.format(\n",
    "                    str(epoch).zfill(6)\n",
    "                )\n",
    "            ),\n",
    "            nrow=4,\n",
    "            padding=10,\n",
    "            pad_value=1\n",
    "        )"
   ]
  },
  {
   "cell_type": "code",
   "execution_count": 15,
   "metadata": {
    "colab": {
     "base_uri": "https://localhost:8080/",
     "height": 901
    },
    "colab_type": "code",
    "id": "VxA3WipWLdcr",
    "outputId": "7bcf55fe-e764-4419-f531-32088d1acf2b"
   },
   "outputs": [
    {
     "data": {
      "image/png": "[encoded data removed]",
      "text/plain": [
       "<Figure size 1152x1152 with 1 Axes>"
      ]
     },
     "metadata": {
      "tags": []
     },
     "output_type": "display_data"
    }
   ],
   "source": [
    "# Visualize Results\n",
    "generated = generator(test_set).detach().cpu().view(-1, 1, 28, 28)\n",
    "\n",
    "grid = torchvision.utils.make_grid(\n",
    "    generated,\n",
    "    nrow=4,\n",
    "    padding=10,\n",
    "    pad_value=1\n",
    ")\n",
    "\n",
    "img = np.transpose(\n",
    "    grid.numpy(),\n",
    "    (1, 2, 0)\n",
    ")\n",
    "\n",
    "fig = plt.figure(figsize=(16, 16))\n",
    "plt.axis(\"off\")\n",
    "plt.imshow(img);"
   ]
  },
  {
   "cell_type": "markdown",
   "metadata": {
    "colab_type": "text",
    "id": "xrah75GiLdcu"
   },
   "source": [
    "#### Google Collaboratory\n",
    "\n",
    "Notebook: https://colab.research.google.com/drive/1ZFvYoDhrLrUwrv-hUpNXJGxndEeRvl8H"
   ]
  },
  {
   "cell_type": "markdown",
   "metadata": {
    "colab_type": "text",
    "id": "oTFhuj-ZNpxM"
   },
   "source": [
    "#### Evaluation Metrics: Inception Score\n",
    "\n",
    "\n",
    "Source: https://sudomake.ai/inception-score-explained/"
   ]
  },
  {
   "cell_type": "code",
   "execution_count": 0,
   "metadata": {
    "colab": {},
    "colab_type": "code",
    "id": "Iglap_ZqLdcv"
   },
   "outputs": [],
   "source": [
    "import math\n",
    "import torch\n",
    "import torch.nn.functional as F\n",
    "from torch.autograd import Variable\n",
    "from torchvision.models import inception_v3\n",
    "\n",
    "\n",
    "\n",
    "# initialize pretrained inception network\n",
    "net = inception_v3(pretrained=True).to(device)\n",
    "\n",
    "\n",
    "def inception_score(images, batch_size):\n",
    "\n",
    "  # list of scores\n",
    "  scores = []\n",
    "\n",
    "  # number of steps\n",
    "  num_steps = int(math.ceil(float(len(images)) / float(batch_size)))\n",
    "\n",
    "  # iterate over the images\n",
    "  for i in range(num_steps):\n",
    "\n",
    "    # mini-batch start and end index\n",
    "    s = i * batch_size\n",
    "    e = (i + 1) * batch_size\n",
    "\n",
    "    # mini-batch images\n",
    "    mini_batch = images[s:e]\n",
    "    \n",
    "    # mini-batch as Torch tensor with gradients\n",
    "    batch = Variable(mini_batch)\n",
    "\n",
    "    # apply a forward pass through inception network\n",
    "    # skipping aux logits\n",
    "    '''\n",
    "     This network is unique because it has two output layers when training.\n",
    "     The second output is known as an auxiliary output and is contained in the AuxLogits part of the network.\n",
    "     The primary output is a linear layer at the end of the network.\n",
    "     Note, when testing we only consider the primary output.\n",
    "    '''\n",
    "    s, _ = net(batch)\n",
    "\n",
    "    # accumulate scores\n",
    "    scores.append(s)\n",
    "  \n",
    "  # stack scores as tensor\n",
    "  scores = torch.cat(scores, 0)\n",
    "\n",
    "  # calculate inception score\n",
    "\n",
    "  '''\n",
    "  The formula for inception score\n",
    "  IS(x) = E[ KL( P(y|x) || P(y)) ]\n",
    "  x: generated images\n",
    "  y: inception model classification distribution aka softmax\n",
    "  '''\n",
    "\n",
    "  # calculate p(y|x) across dimension 1\n",
    "  # that is one row for each image\n",
    "  p_yx = F.softmax(scores, 1)\n",
    "\n",
    "  # calculate p(y) across dimension 0\n",
    "  # that is one column for each class / label\n",
    "  p_y = p_yx.mean(0).unsqueeze(0).expand(p_yx.size(0), -1)\n",
    "\n",
    "  # calculate KL divergence\n",
    "  KL_d = p_yx * (torch.log(p_yx) - torch.log(p_y))\n",
    "\n",
    "  # calculate mean aka expected of KL\n",
    "  final_score = KL_d.mean()\n",
    "\n",
    "  # return final score\n",
    "  return final_score"
   ]
  },
  {
   "cell_type": "code",
   "execution_count": 28,
   "metadata": {
    "colab": {
     "base_uri": "https://localhost:8080/",
     "height": 34
    },
    "colab_type": "code",
    "id": "ZRWS6QXxNojy",
    "outputId": "46b13669-faf9-4d3c-ba3a-9e02fe2f0ea9"
   },
   "outputs": [
    {
     "data": {
      "text/plain": [
       "0.00037958723260089755"
      ]
     },
     "execution_count": 28,
     "metadata": {
      "tags": []
     },
     "output_type": "execute_result"
    }
   ],
   "source": [
    "# test inception score on generated images\n",
    "\n",
    "# generate images\n",
    "images = generator(test_set)\n",
    "\n",
    "# reshape to 1x28x28\n",
    "images = images.view(-1, 1, 28, 28)\n",
    "\n",
    "# repeat Gray channel to RGB\n",
    "images = images.repeat(1, 3, 1, 1)\n",
    "\n",
    "# resize the images to 3x299x299\n",
    "res_images = F.interpolate(images, size=(299, 299))\n",
    "\n",
    "# calculate inception score\n",
    "score = inception_score(res_images, BATCH_SIZE)\n",
    "\n",
    "# get value from tensor variable\n",
    "score.item()"
   ]
  },
  {
   "cell_type": "code",
   "execution_count": 41,
   "metadata": {
    "colab": {
     "base_uri": "https://localhost:8080/",
     "height": 34
    },
    "colab_type": "code",
    "id": "eB9H_kK2Swv7",
    "outputId": "94941fa3-4c4c-4e04-cbad-34466d733e3a"
   },
   "outputs": [
    {
     "data": {
      "text/plain": [
       "0.0007719574496150017"
      ]
     },
     "execution_count": 41,
     "metadata": {
      "tags": []
     },
     "output_type": "execute_result"
    }
   ],
   "source": [
    "# test inception score on real images\n",
    "\n",
    "# load mini batch from dataset\n",
    "images, _ = next(iter(train_loader))\n",
    "\n",
    "# convert to GPU\n",
    "images = images.to(device)\n",
    "\n",
    "# reshape to 1x28x28\n",
    "images = images.view(-1, 1, 28, 28)\n",
    "\n",
    "# repeat Gray channel to RGB\n",
    "images = images.repeat(1, 3, 1, 1)\n",
    "\n",
    "# resize the images to 3x299x299\n",
    "res_images = F.interpolate(images, size=(299, 299))\n",
    "\n",
    "# calculate inception score\n",
    "score = inception_score(res_images, BATCH_SIZE)\n",
    "\n",
    "# get value from tensor variable\n",
    "score.item()"
   ]
  },
  {
   "cell_type": "code",
   "execution_count": 0,
   "metadata": {
    "colab": {},
    "colab_type": "code",
    "id": "N91JMwuWbNgi"
   },
   "outputs": [],
   "source": []
  }
 ],
 "metadata": {
  "accelerator": "GPU",
  "colab": {
   "collapsed_sections": [],
   "name": "[Coding Exercise] GAN Evaluation Metrics: Inception Score",
   "provenance": []
  },
  "kernelspec": {
   "display_name": "Python 3",
   "language": "python",
   "name": "python3"
  },
  "language_info": {
   "codemirror_mode": {
    "name": "ipython",
    "version": 3
   },
   "file_extension": ".py",
   "mimetype": "text/x-python",
   "name": "python",
   "nbconvert_exporter": "python",
   "pygments_lexer": "ipython3",
   "version": "3.6.8"
  }
 },
 "nbformat": 4,
 "nbformat_minor": 1
}
