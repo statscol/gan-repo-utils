{
 "cells": [
  {
   "cell_type": "markdown",
   "metadata": {
    "colab_type": "text",
    "id": "_OhgbCztLdb0"
   },
   "source": [
    "### Lecture 3"
   ]
  },
  {
   "cell_type": "code",
   "execution_count": 0,
   "metadata": {
    "colab": {},
    "colab_type": "code",
    "id": "_cG2mZfrLdb2"
   },
   "outputs": [],
   "source": [
    "import torch\n",
    "import numpy as np\n",
    "from matplotlib import pyplot as plt\n",
    "% matplotlib inline"
   ]
  },
  {
   "cell_type": "code",
   "execution_count": 2,
   "metadata": {
    "colab": {
     "base_uri": "https://localhost:8080/",
     "height": 34
    },
    "colab_type": "code",
    "id": "sD4OK2rhLdb7",
    "outputId": "0731084d-c477-476b-8c01-11c98dd9ac85"
   },
   "outputs": [
    {
     "data": {
      "text/plain": [
       "False"
      ]
     },
     "execution_count": 2,
     "metadata": {
      "tags": []
     },
     "output_type": "execute_result"
    }
   ],
   "source": [
    "torch.cuda.is_available()"
   ]
  },
  {
   "cell_type": "code",
   "execution_count": 3,
   "metadata": {
    "colab": {
     "base_uri": "https://localhost:8080/",
     "height": 34
    },
    "colab_type": "code",
    "id": "5xhpncOELdcA",
    "outputId": "1cd29ded-f739-4567-d004-9e9dab42fe53"
   },
   "outputs": [
    {
     "data": {
      "text/plain": [
       "device(type='cpu')"
      ]
     },
     "execution_count": 3,
     "metadata": {
      "tags": []
     },
     "output_type": "execute_result"
    }
   ],
   "source": [
    "device = torch.device('cpu')\n",
    "if torch.cuda.is_available():\n",
    "    device = torch.device('cuda')\n",
    "\n",
    "\n",
    "device"
   ]
  },
  {
   "cell_type": "code",
   "execution_count": 0,
   "metadata": {
    "colab": {},
    "colab_type": "code",
    "id": "xX2Y2NDhLdcD"
   },
   "outputs": [],
   "source": [
    "noise_dim = 100"
   ]
  },
  {
   "cell_type": "markdown",
   "metadata": {
    "colab_type": "text",
    "id": "y4wk9P5mLdcG"
   },
   "source": [
    "#### Generator Model"
   ]
  },
  {
   "cell_type": "code",
   "execution_count": 0,
   "metadata": {
    "colab": {},
    "colab_type": "code",
    "id": "G_vE7g7KLdcH"
   },
   "outputs": [],
   "source": [
    "class Generator(torch.nn.Module):\n",
    "    \n",
    "    def __init__(self):\n",
    "        \n",
    "        super(Generator, self).__init__()\n",
    "        \n",
    "        self.fcn = torch.nn.Sequential(\n",
    "            # Fully Connected Layer 1\n",
    "            torch.nn.Linear(\n",
    "                in_features=noise_dim,\n",
    "                out_features=240,\n",
    "                bias=True\n",
    "            ),\n",
    "            torch.nn.ReLU(),\n",
    "            torch.nn.Dropout(0.5),\n",
    "            # Fully Connected Layer 2\n",
    "            torch.nn.Linear(\n",
    "                in_features=240,\n",
    "                out_features=240,\n",
    "                bias=True\n",
    "            ),\n",
    "            torch.nn.ReLU(),\n",
    "            torch.nn.Dropout(0.5),\n",
    "            # Fully Connected Layer 3\n",
    "            torch.nn.Linear(\n",
    "                in_features=240,\n",
    "                out_features=240,\n",
    "                bias=True\n",
    "            ),\n",
    "            torch.nn.ReLU(),\n",
    "            torch.nn.Dropout(0.5),\n",
    "            # Fully Connected Layer 4\n",
    "            torch.nn.Linear(\n",
    "                in_features=240,\n",
    "                out_features=784,\n",
    "                bias=True\n",
    "            ),\n",
    "            torch.nn.Sigmoid()\n",
    "        )\n",
    "\n",
    "    def forward(self, batch):\n",
    "        ret = batch.view(batch.size(0), -1)\n",
    "        ret = self.fcn(ret)\n",
    "        return ret"
   ]
  },
  {
   "cell_type": "markdown",
   "metadata": {
    "colab_type": "text",
    "id": "DlA1jjXsLdcK"
   },
   "source": [
    "#### Maxout Activation\n",
    "\n",
    "##### Source: https://github.com/pytorch/pytorch/issues/805"
   ]
  },
  {
   "cell_type": "code",
   "execution_count": 0,
   "metadata": {
    "colab": {},
    "colab_type": "code",
    "id": "18YizRRJLdcL"
   },
   "outputs": [],
   "source": [
    "class Maxout(torch.nn.Module):\n",
    "\n",
    "    def __init__(self, num_pieces):\n",
    "\n",
    "        super(Maxout, self).__init__()\n",
    "\n",
    "        self.num_pieces = num_pieces\n",
    "\n",
    "    def forward(self, x):\n",
    "\n",
    "        # x.shape = (batch_size? x 625)\n",
    "\n",
    "        assert x.shape[1] % self.num_pieces == 0  # 625 % 5 = 0\n",
    "\n",
    "        ret = x.view(\n",
    "            *x.shape[:1],  # batch_size\n",
    "            x.shape[1] // self.num_pieces,  # piece-wise linear\n",
    "            self.num_pieces,  # num_pieces\n",
    "            *x.shape[2:]  # remaining dimensions if any\n",
    "        )\n",
    "        \n",
    "        # ret.shape = (batch_size? x 125 x 5)\n",
    "\n",
    "        # https://pytorch.org/docs/stable/torch.html#torch.max        \n",
    "        ret, _ = ret.max(dim=2)\n",
    "\n",
    "        # ret.shape = (batch_size? x 125)\n",
    "\n",
    "        return ret"
   ]
  },
  {
   "cell_type": "markdown",
   "metadata": {
    "colab_type": "text",
    "id": "PWHOoCrHLdcO"
   },
   "source": [
    "#### Discriminator Model"
   ]
  },
  {
   "cell_type": "code",
   "execution_count": 0,
   "metadata": {
    "colab": {},
    "colab_type": "code",
    "id": "VOU4-L1bLdcP"
   },
   "outputs": [],
   "source": [
    "class Discriminator(torch.nn.Module):\n",
    "    \n",
    "    def __init__(self):\n",
    "        \n",
    "        super(Discriminator, self).__init__()\n",
    "        \n",
    "        self.fcn = torch.nn.Sequential(\n",
    "            # Fully Connected Layer 1\n",
    "            torch.nn.Linear(\n",
    "                in_features=784,\n",
    "                out_features=240,\n",
    "                bias=True\n",
    "            ),\n",
    "            Maxout(5),\n",
    "            # Fully Connected Layer 2\n",
    "            torch.nn.Linear(\n",
    "                in_features=48,\n",
    "                out_features=240,\n",
    "                bias=True\n",
    "            ),\n",
    "            Maxout(5),\n",
    "            # Fully Connected Layer 3\n",
    "            torch.nn.Linear(\n",
    "                in_features=48,\n",
    "                out_features=1,\n",
    "                bias=True\n",
    "            ),\n",
    "            torch.nn.Sigmoid()\n",
    "        )\n",
    "\n",
    "    def forward(self, batch):\n",
    "        ret = batch.view(batch.size(0), -1)\n",
    "        ret = self.fcn(ret)\n",
    "        return ret"
   ]
  },
  {
   "cell_type": "markdown",
   "metadata": {
    "colab_type": "text",
    "id": "_Avus67kLdcT"
   },
   "source": [
    "### Lecture 4"
   ]
  },
  {
   "cell_type": "markdown",
   "metadata": {
    "colab_type": "text",
    "id": "5uqxuAHtLdcU"
   },
   "source": [
    "#### MNIST Dataset"
   ]
  },
  {
   "cell_type": "code",
   "execution_count": 0,
   "metadata": {
    "colab": {},
    "colab_type": "code",
    "id": "zuyEivYqLdcV"
   },
   "outputs": [],
   "source": [
    "import torchvision"
   ]
  },
  {
   "cell_type": "code",
   "execution_count": 0,
   "metadata": {
    "colab": {},
    "colab_type": "code",
    "id": "rj1UdgKdLdcX"
   },
   "outputs": [],
   "source": [
    "class FlattenTransform:\n",
    "    \n",
    "    def __call__(self, inputs):\n",
    "        return inputs.view(inputs.shape[0], -1)\n",
    "        \n",
    "\n",
    "data_train = torchvision.datasets.MNIST(\n",
    "    './data/mnist',\n",
    "    train=True,\n",
    "    download=True,\n",
    "    transform=torchvision.transforms.Compose([\n",
    "        torchvision.transforms.ToTensor(),\n",
    "        FlattenTransform()\n",
    "    ])\n",
    ")"
   ]
  },
  {
   "cell_type": "code",
   "execution_count": 0,
   "metadata": {
    "colab": {},
    "colab_type": "code",
    "id": "X0-vutLXLdca"
   },
   "outputs": [],
   "source": [
    "BATCH_SIZE = 64\n",
    "\n",
    "train_loader = torch.utils.data.DataLoader(\n",
    "    data_train,\n",
    "    batch_size=BATCH_SIZE,\n",
    "    shuffle=True,\n",
    "    num_workers=4\n",
    ")"
   ]
  },
  {
   "cell_type": "markdown",
   "metadata": {
    "colab_type": "text",
    "id": "RK8UuddZLdcd"
   },
   "source": [
    "#### GAN Training"
   ]
  },
  {
   "cell_type": "code",
   "execution_count": 0,
   "metadata": {
    "colab": {},
    "colab_type": "code",
    "id": "3Wgg5wzSLdce"
   },
   "outputs": [],
   "source": [
    "generator = Generator().to(device)\n",
    "discriminator = Discriminator().to(device)\n",
    "\n",
    "\n",
    "discriminator_optimizer = torch.optim.SGD(\n",
    "    discriminator.parameters(),\n",
    "    lr=0.005,\n",
    "    momentum=0.7\n",
    ")\n",
    "\n",
    "generator_optimizer = torch.optim.SGD(\n",
    "    generator.parameters(),\n",
    "    lr=0.005,\n",
    "    momentum=0.7\n",
    ")\n",
    "\n",
    "criterion = torch.nn.BCELoss()"
   ]
  },
  {
   "cell_type": "code",
   "execution_count": 0,
   "metadata": {
    "colab": {},
    "colab_type": "code",
    "id": "L99QRpJnLdch"
   },
   "outputs": [],
   "source": [
    "real_labels = torch.ones(BATCH_SIZE, 1).to(device)\n",
    "fake_labels = torch.zeros(BATCH_SIZE, 1).to(device)\n",
    "\n",
    "test_set = torch.randn(16, noise_dim).to(device)\n",
    "\n",
    "num_epochs = 11\n",
    "num_steps = len(train_loader) // BATCH_SIZE"
   ]
  },
  {
   "cell_type": "code",
   "execution_count": 0,
   "metadata": {
    "colab": {},
    "colab_type": "code",
    "id": "bRPDeJpHLdcl"
   },
   "outputs": [],
   "source": [
    "import os\n",
    "\n",
    "if not os.path.exists('visuals-v2'):\n",
    "    os.mkdir('visuals-v2')"
   ]
  },
  {
   "cell_type": "code",
   "execution_count": 0,
   "metadata": {
    "colab": {},
    "colab_type": "code",
    "id": "O29i3nMSLdco"
   },
   "outputs": [],
   "source": [
    "for epoch in range(num_epochs):\n",
    "\n",
    "    for i, (images, _) in enumerate(train_loader):\n",
    "\n",
    "        if i == num_steps:\n",
    "            break\n",
    "\n",
    "        # Train Discriminator\n",
    "        for _ in range(16):\n",
    "        \n",
    "            real_images = images.to(device)\n",
    "\n",
    "            fake_images = generator(\n",
    "                torch.randn(BATCH_SIZE, noise_dim).to(device)\n",
    "            )\n",
    "\n",
    "            discriminator_optimizer.zero_grad()\n",
    "\n",
    "            real_outputs = discriminator(real_images)\n",
    "            fake_outputs = discriminator(fake_images)\n",
    "\n",
    "            d_x = criterion(real_outputs, real_labels)\n",
    "            d_g_z = criterion(fake_outputs, fake_labels)\n",
    "\n",
    "            d_x.backward()\n",
    "            d_g_z.backward()\n",
    "\n",
    "            discriminator_optimizer.step()\n",
    "\n",
    "        # Train Generator\n",
    "        z = torch.randn(BATCH_SIZE, noise_dim).to(device)\n",
    "\n",
    "        generator.zero_grad()\n",
    "\n",
    "        outputs = discriminator(generator(z))\n",
    "\n",
    "        loss = criterion(outputs, real_labels)\n",
    "\n",
    "        loss.backward()\n",
    "\n",
    "        generator_optimizer.step()\n",
    "\n",
    "    # Visualize Results\n",
    "    if epoch % 10 == 0:\n",
    "\n",
    "        generated = generator(test_set).detach().cpu().view(-1, 1, 28, 28)\n",
    "\n",
    "        grid = torchvision.utils.save_image(\n",
    "            generated,\n",
    "            os.path.join(\n",
    "                'visuals-v2',\n",
    "                '{}.jpg'.format(\n",
    "                    str(epoch).zfill(6)\n",
    "                )\n",
    "            ),\n",
    "            nrow=4,\n",
    "            padding=10,\n",
    "            pad_value=1\n",
    "        )"
   ]
  },
  {
   "cell_type": "code",
   "execution_count": 15,
   "metadata": {
    "colab": {
     "base_uri": "https://localhost:8080/",
     "height": 901
    },
    "colab_type": "code",
    "id": "VxA3WipWLdcr",
    "outputId": "4c6383b0-655b-425a-b0db-e4236e4fce47"
   },
   "outputs": [
    {
     "data": {
      "image/png": "[encoded data removed]",
      "text/plain": [
       "<Figure size 1152x1152 with 1 Axes>"
      ]
     },
     "metadata": {
      "tags": []
     },
     "output_type": "display_data"
    }
   ],
   "source": [
    "# Visualize Results\n",
    "generated = generator(test_set).detach().cpu().view(-1, 1, 28, 28)\n",
    "\n",
    "grid = torchvision.utils.make_grid(\n",
    "    generated,\n",
    "    nrow=4,\n",
    "    padding=10,\n",
    "    pad_value=1\n",
    ")\n",
    "\n",
    "img = np.transpose(\n",
    "    grid.numpy(),\n",
    "    (1, 2, 0)\n",
    ")\n",
    "\n",
    "fig = plt.figure(figsize=(16, 16))\n",
    "plt.axis(\"off\")\n",
    "plt.imshow(img);"
   ]
  },
  {
   "cell_type": "markdown",
   "metadata": {
    "colab_type": "text",
    "id": "xrah75GiLdcu"
   },
   "source": [
    "#### Google Collaboratory\n",
    "\n",
    "Notebook: https://colab.research.google.com/drive/1ZFvYoDhrLrUwrv-hUpNXJGxndEeRvl8H"
   ]
  },
  {
   "cell_type": "markdown",
   "metadata": {
    "colab_type": "text",
    "id": "oTFhuj-ZNpxM"
   },
   "source": [
    "#### Evaluation Metrics: FID Score\n",
    "\n",
    "\n",
    "Source: https://github.com/hukkelas/pytorch-frechet-inception-distance/blob/master/fid.py"
   ]
  },
  {
   "cell_type": "code",
   "execution_count": 0,
   "metadata": {
    "colab": {},
    "colab_type": "code",
    "id": "Iglap_ZqLdcv"
   },
   "outputs": [],
   "source": [
    "import math\n",
    "import torch\n",
    "import torch.nn.functional as F\n",
    "from torch.autograd import Variable\n",
    "from torchvision.models import inception_v3\n",
    "import scipy\n",
    "\n",
    "\n",
    "# inception v3 feature extractor\n",
    "class PartialInceptionNetwork(torch.nn.Module):\n",
    "  \n",
    "  def __init__(self):\n",
    "      # trigger parent constructor\n",
    "      super(PartialInceptionNetwork, self).__init__()\n",
    "\n",
    "      # initialize pretrained network\n",
    "      self.inception_network = inception_v3(pretrained=True)\n",
    "      \n",
    "      # register a forward hook otherwise not implemented exception is raised\n",
    "      self.inception_network.Mixed_7c.register_forward_hook(self.output_hook)\n",
    "\n",
    "  # register hook to allow forward pass on second to last block\n",
    "  def output_hook(self, module, input, output):\n",
    "      # N x 2048 x 8 x 8\n",
    "      self.mixed_7c_output = output\n",
    "\n",
    "  def forward(self, x):\n",
    "      \"\"\"\n",
    "      Args:\n",
    "          x: shape (N, 3, 299, 299) dtype: torch.float32 in range 0-1\n",
    "      Returns:\n",
    "          inception activations: torch.tensor, shape: (N, 2048), dtype: torch.float32\n",
    "      \"\"\"\n",
    "      assert x.shape[1:] == (3, 299, 299), \"Expected input shape to be: (N,3,299,299)\" +\\\n",
    "                                            \", but got {}\".format(x.shape)\n",
    "\n",
    "      # Trigger output hook\n",
    "      self.inception_network(x)\n",
    "\n",
    "      # Output: N x 2048 x 8 x 8 \n",
    "      activations = self.mixed_7c_output\n",
    "\n",
    "      # Output: N x 2048 x 1 x 1 \n",
    "      activations = torch.nn.functional.adaptive_avg_pool2d(\n",
    "          activations, (1,1))\n",
    "\n",
    "      # Rectify dimensions\n",
    "      activations = activations.view(x.shape[0], 2048)\n",
    "\n",
    "      return activations\n",
    "\n",
    "\n",
    "# initialize pretrained inception network\n",
    "net = PartialInceptionNetwork().to(device)\n",
    "\n",
    "\n",
    "def fid_score(real_images, gen_images, batch_size):\n",
    "\n",
    "  # list of features\n",
    "  real_activations = []\n",
    "  gen_activations = []\n",
    "\n",
    "  # number of steps\n",
    "  num_steps = int(math.ceil(float(len(real_images)) / float(batch_size)))\n",
    "\n",
    "  # iterate over the images\n",
    "  for i in range(num_steps):\n",
    "\n",
    "    # mini-batch start and end index\n",
    "    s = i * batch_size\n",
    "    e = (i + 1) * batch_size\n",
    "\n",
    "    # mini-batch images\n",
    "    mini_batch_real = real_images[s:e]\n",
    "    mini_batch_gen = gen_images[s:e]\n",
    "    \n",
    "    # mini-batch as Torch tensor with gradients\n",
    "    batch_real = Variable(mini_batch_real)\n",
    "    batch_gen = Variable(mini_batch_gen)\n",
    "\n",
    "    # apply a forward pass through inception network\n",
    "    features_real = net(batch_real)\n",
    "    features_gen = net(batch_gen)\n",
    "\n",
    "    # accumulate features\n",
    "    real_activations.append(features_real)\n",
    "    gen_activations.append(features_gen)\n",
    "  \n",
    "  # stack tensor\n",
    "  features_real = torch.cat(real_activations, 0)\n",
    "  features_gen = torch.cat(gen_activations, 0)\n",
    "\n",
    "  # tensor to numpy\n",
    "  xr = features_real.detach().cpu().numpy()\n",
    "  xg = features_gen.detach().cpu().numpy()\n",
    "\n",
    "  # calculate mean\n",
    "  u1 = np.mean(xr, axis=0)\n",
    "  u2 = np.mean(xg, axis=0)\n",
    "\n",
    "  # calculate variance\n",
    "  s1 = np.cov(xr, rowvar=False)\n",
    "  s2 = np.cov(xg, rowvar=False)\n",
    "\n",
    "  # difference squared\n",
    "  diff = u1 - u2\n",
    "  diff_squared = diff.dot(diff)\n",
    "\n",
    "  # trace covariance product\n",
    "  prod = s1.dot(s2)\n",
    "  sqrt_prod, _ = scipy.linalg.sqrtm(prod, disp=False)\n",
    "  \n",
    "  # avoid imaginary numbers\n",
    "  if np.iscomplexobj(sqrt_prod):\n",
    "    sqrt_prod = sqrt_prod.real\n",
    "\n",
    "  prod_tr = np.trace(sqrt_prod)\n",
    "\n",
    "  # calculate FID\n",
    "  final_score = diff_squared + np.trace(s1) + np.trace(s2) - 2 * prod_tr\n",
    "\n",
    "  # return final score\n",
    "  return final_score"
   ]
  },
  {
   "cell_type": "code",
   "execution_count": 19,
   "metadata": {
    "colab": {
     "base_uri": "https://localhost:8080/",
     "height": 34
    },
    "colab_type": "code",
    "id": "ZRWS6QXxNojy",
    "outputId": "0f1f6152-dfea-46a3-e1cb-21afcfcd37a8"
   },
   "outputs": [
    {
     "data": {
      "text/plain": [
       "140.71084837954675"
      ]
     },
     "execution_count": 19,
     "metadata": {
      "tags": []
     },
     "output_type": "execute_result"
    }
   ],
   "source": [
    "# test FID score\n",
    "\n",
    "# REAL Images\n",
    "\n",
    "# load mini batch from dataset\n",
    "images, _ = next(iter(train_loader))\n",
    "\n",
    "# convert to GPU\n",
    "images = images.to(device)\n",
    "\n",
    "# reshape to 1x28x28\n",
    "images = images.view(-1, 1, 28, 28)\n",
    "\n",
    "# repeat Gray channel to RGB\n",
    "images = images.repeat(1, 3, 1, 1)\n",
    "\n",
    "# resize the images to 3x299x299\n",
    "real_res_images = F.interpolate(images, size=(299, 299))\n",
    "\n",
    "\n",
    "# Generated Images\n",
    "\n",
    "# generate images\n",
    "images = generator(test_set)\n",
    "\n",
    "# reshape to 1x28x28\n",
    "images = images.view(-1, 1, 28, 28)\n",
    "\n",
    "# repeat Gray channel to RGB\n",
    "images = images.repeat(1, 3, 1, 1)\n",
    "\n",
    "# resize the images to 3x299x299\n",
    "gen_res_images = F.interpolate(images, size=(299, 299))\n",
    "\n",
    "# calculate inception score\n",
    "score = fid_score(real_res_images, gen_res_images, BATCH_SIZE)\n",
    "\n",
    "# get value from tensor variable\n",
    "score"
   ]
  },
  {
   "cell_type": "code",
   "execution_count": 0,
   "metadata": {
    "colab": {},
    "colab_type": "code",
    "id": "N91JMwuWbNgi"
   },
   "outputs": [],
   "source": []
  }
 ],
 "metadata": {
  "colab": {
   "collapsed_sections": [],
   "machine_shape": "hm",
   "name": "[Coding Exercise] GAN Evaluation Metrics: FID Score",
   "provenance": []
  },
  "kernelspec": {
   "display_name": "Python 3",
   "language": "python",
   "name": "python3"
  },
  "language_info": {
   "codemirror_mode": {
    "name": "ipython",
    "version": 3
   },
   "file_extension": ".py",
   "mimetype": "text/x-python",
   "name": "python",
   "nbconvert_exporter": "python",
   "pygments_lexer": "ipython3",
   "version": "3.6.8"
  }
 },
 "nbformat": 4,
 "nbformat_minor": 1
}
